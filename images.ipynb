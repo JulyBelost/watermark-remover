{
 "cells": [
  {
   "cell_type": "code",
   "execution_count": 3,
   "metadata": {
    "collapsed": true,
    "pycharm": {
     "is_executing": false
    }
   },
   "outputs": [],
   "source": [
    "import cv2\n",
    "from src.estimate_watermark import *\n",
    "from src.preprocess import *\n",
    "from src.image_getter import *\n",
    "from src.watermark_reconstruct import *"
   ]
  },
  {
   "cell_type": "code",
   "execution_count": 4,
   "outputs": [
    {
     "name": "stdout",
     "text": [
      "All files prepared\n"
     ],
     "output_type": "stream"
    }
   ],
   "source": [
    "# folder name of preprocessed images with watermarks\n",
    "dir_images = './images_dataset/img_prepared'\n",
    "dir_images_raw = './images_dataset/img_raw'\n",
    "files_number = 100\n",
    "image_size = 1280\n",
    "\n",
    "if not os.path.isdir(dir_images):\n",
    "    os.mkdir(dir_images)\n",
    "    \n",
    "files = os.listdir(dir_images)\n",
    "\n",
    "if len(files) == 0:\n",
    "    if not os.path.isdir(dir_images_raw):\n",
    "        os.mkdir(dir_images_raw)\n",
    "\n",
    "    files_raw = os.listdir(dir_images_raw)\n",
    "\n",
    "    if len(files_raw) == 0:\n",
    "        photo_scrape(dir_images_raw, files_number)\n",
    "    else:\n",
    "        print(\"All files downloaded\")\n",
    "\n",
    "    preprocess(dir_images_raw, dir_images, image_size)\n",
    "else:\n",
    "    print(\"All files prepared\")\n"
   ],
   "metadata": {
    "collapsed": false,
    "pycharm": {
     "name": "#%%\n",
     "is_executing": false
    }
   }
  },
  {
   "cell_type": "code",
   "execution_count": 4,
   "outputs": [],
   "source": [],
   "metadata": {
    "collapsed": false,
    "pycharm": {
     "name": "#%%\n",
     "is_executing": false
    }
   }
  },
  {
   "cell_type": "code",
   "execution_count": 4,
   "outputs": [],
   "source": [
    "\n"
   ],
   "metadata": {
    "collapsed": false,
    "pycharm": {
     "name": "#%%\n",
     "is_executing": false
    }
   }
  }
 ],
 "metadata": {
  "kernelspec": {
   "display_name": "Python 3",
   "language": "python",
   "name": "python3"
  },
  "language_info": {
   "codemirror_mode": {
    "name": "ipython",
    "version": 2
   },
   "file_extension": ".py",
   "mimetype": "text/x-python",
   "name": "python",
   "nbconvert_exporter": "python",
   "pygments_lexer": "ipython2",
   "version": "2.7.6"
  },
  "pycharm": {
   "stem_cell": {
    "cell_type": "raw",
    "source": [],
    "metadata": {
     "collapsed": false
    }
   }
  }
 },
 "nbformat": 4,
 "nbformat_minor": 0
}